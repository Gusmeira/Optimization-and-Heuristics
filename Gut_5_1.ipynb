{
 "cells": [
  {
   "cell_type": "markdown",
   "metadata": {},
   "source": [
    "# Jorge Gut (5.1)"
   ]
  },
  {
   "cell_type": "markdown",
   "metadata": {},
   "source": [
    "Consider the following problem of Linear Programming\n",
    "\n",
    "> $min.$ $f(x)=-7x_1+x_2$ <br>\n",
    "$s.a:$ $\\begin{cases}\n",
    "        x_1+x_2-15 ≤ 0 \\\\\n",
    "        2x_1-x_2-6 ≤ 0 \\\\\n",
    "        -x_1+x_2-10 ≤ 0 \\\\\n",
    "        x_1,x_2 ≥ 0, \\in \\mathbb{R}^1\n",
    "        \\end{cases}$ <br>\n",
    "\n",
    "Solve it by: <br>\n",
    "- Graphic Inspection\n",
    "- Pyomo"
   ]
  },
  {
   "cell_type": "markdown",
   "metadata": {},
   "source": [
    "## Graphic Inspection"
   ]
  },
  {
   "cell_type": "code",
   "execution_count": 31,
   "metadata": {},
   "outputs": [],
   "source": [
    "import plotly.graph_objects as go\n",
    "import numpy as np"
   ]
  },
  {
   "cell_type": "code",
   "execution_count": 147,
   "metadata": {},
   "outputs": [
    {
     "data": {
      "application/vnd.plotly.v1+json": {
       "config": {
        "plotlyServerURL": "https://plot.ly"
       },
       "data": [
        {
         "line": {
          "color": "#8e2c50",
          "width": 1.5
         },
         "mode": "lines",
         "name": "x1 + x2 - 15 ≤ 0",
         "type": "scatter",
         "x": [
          0,
          1.7777777777777777,
          3.5555555555555554,
          5.333333333333333,
          7.111111111111111,
          8.88888888888889,
          10.666666666666666,
          12.444444444444443,
          14.222222222222221,
          16
         ],
         "y": [
          15,
          13.222222222222221,
          11.444444444444445,
          9.666666666666668,
          7.888888888888889,
          6.111111111111111,
          4.333333333333334,
          2.555555555555557,
          0.7777777777777786,
          -1
         ]
        },
        {
         "line": {
          "color": "#5e43a5",
          "width": 1.5
         },
         "mode": "lines",
         "name": "2x1 + x2 - 6 ≤ 0",
         "type": "scatter",
         "x": [
          0,
          1.7777777777777777,
          3.5555555555555554,
          5.333333333333333,
          7.111111111111111,
          8.88888888888889,
          10.666666666666666,
          12.444444444444443,
          14.222222222222221,
          16
         ],
         "y": [
          -6,
          -2.4444444444444446,
          1.1111111111111107,
          4.666666666666666,
          8.222222222222221,
          11.777777777777779,
          15.333333333333332,
          18.888888888888886,
          22.444444444444443,
          26
         ]
        },
        {
         "line": {
          "color": "#da8200",
          "width": 1.5
         },
         "mode": "lines",
         "name": "2x1 + x2 - 6 ≤ 0",
         "type": "scatter",
         "x": [
          0,
          1.7777777777777777,
          3.5555555555555554,
          5.333333333333333,
          7.111111111111111,
          8.88888888888889,
          10.666666666666666,
          12.444444444444443,
          14.222222222222221,
          16
         ],
         "y": [
          10,
          11.777777777777779,
          13.555555555555555,
          15.333333333333332,
          17.11111111111111,
          18.88888888888889,
          20.666666666666664,
          22.444444444444443,
          24.22222222222222,
          26
         ]
        },
        {
         "fill": "tozeroy",
         "fillcolor": "rgba(150, 150, 150, 0.18)",
         "mode": "none",
         "name": "Feasible Region",
         "type": "scatter",
         "x": [
          3,
          7,
          15
         ],
         "y": [
          0,
          8,
          0
         ]
        },
        {
         "marker": {
          "color": "black",
          "size": 8,
          "symbol": "star"
         },
         "mode": "markers",
         "name": "Optimum",
         "type": "scatter",
         "x": [
          7
         ],
         "y": [
          8
         ]
        }
       ],
       "layout": {
        "height": 500,
        "plot_bgcolor": "white",
        "template": {
         "data": {
          "bar": [
           {
            "error_x": {
             "color": "#2a3f5f"
            },
            "error_y": {
             "color": "#2a3f5f"
            },
            "marker": {
             "line": {
              "color": "#E5ECF6",
              "width": 0.5
             },
             "pattern": {
              "fillmode": "overlay",
              "size": 10,
              "solidity": 0.2
             }
            },
            "type": "bar"
           }
          ],
          "barpolar": [
           {
            "marker": {
             "line": {
              "color": "#E5ECF6",
              "width": 0.5
             },
             "pattern": {
              "fillmode": "overlay",
              "size": 10,
              "solidity": 0.2
             }
            },
            "type": "barpolar"
           }
          ],
          "carpet": [
           {
            "aaxis": {
             "endlinecolor": "#2a3f5f",
             "gridcolor": "white",
             "linecolor": "white",
             "minorgridcolor": "white",
             "startlinecolor": "#2a3f5f"
            },
            "baxis": {
             "endlinecolor": "#2a3f5f",
             "gridcolor": "white",
             "linecolor": "white",
             "minorgridcolor": "white",
             "startlinecolor": "#2a3f5f"
            },
            "type": "carpet"
           }
          ],
          "choropleth": [
           {
            "colorbar": {
             "outlinewidth": 0,
             "ticks": ""
            },
            "type": "choropleth"
           }
          ],
          "contour": [
           {
            "colorbar": {
             "outlinewidth": 0,
             "ticks": ""
            },
            "colorscale": [
             [
              0,
              "#0d0887"
             ],
             [
              0.1111111111111111,
              "#46039f"
             ],
             [
              0.2222222222222222,
              "#7201a8"
             ],
             [
              0.3333333333333333,
              "#9c179e"
             ],
             [
              0.4444444444444444,
              "#bd3786"
             ],
             [
              0.5555555555555556,
              "#d8576b"
             ],
             [
              0.6666666666666666,
              "#ed7953"
             ],
             [
              0.7777777777777778,
              "#fb9f3a"
             ],
             [
              0.8888888888888888,
              "#fdca26"
             ],
             [
              1,
              "#f0f921"
             ]
            ],
            "type": "contour"
           }
          ],
          "contourcarpet": [
           {
            "colorbar": {
             "outlinewidth": 0,
             "ticks": ""
            },
            "type": "contourcarpet"
           }
          ],
          "heatmap": [
           {
            "colorbar": {
             "outlinewidth": 0,
             "ticks": ""
            },
            "colorscale": [
             [
              0,
              "#0d0887"
             ],
             [
              0.1111111111111111,
              "#46039f"
             ],
             [
              0.2222222222222222,
              "#7201a8"
             ],
             [
              0.3333333333333333,
              "#9c179e"
             ],
             [
              0.4444444444444444,
              "#bd3786"
             ],
             [
              0.5555555555555556,
              "#d8576b"
             ],
             [
              0.6666666666666666,
              "#ed7953"
             ],
             [
              0.7777777777777778,
              "#fb9f3a"
             ],
             [
              0.8888888888888888,
              "#fdca26"
             ],
             [
              1,
              "#f0f921"
             ]
            ],
            "type": "heatmap"
           }
          ],
          "heatmapgl": [
           {
            "colorbar": {
             "outlinewidth": 0,
             "ticks": ""
            },
            "colorscale": [
             [
              0,
              "#0d0887"
             ],
             [
              0.1111111111111111,
              "#46039f"
             ],
             [
              0.2222222222222222,
              "#7201a8"
             ],
             [
              0.3333333333333333,
              "#9c179e"
             ],
             [
              0.4444444444444444,
              "#bd3786"
             ],
             [
              0.5555555555555556,
              "#d8576b"
             ],
             [
              0.6666666666666666,
              "#ed7953"
             ],
             [
              0.7777777777777778,
              "#fb9f3a"
             ],
             [
              0.8888888888888888,
              "#fdca26"
             ],
             [
              1,
              "#f0f921"
             ]
            ],
            "type": "heatmapgl"
           }
          ],
          "histogram": [
           {
            "marker": {
             "pattern": {
              "fillmode": "overlay",
              "size": 10,
              "solidity": 0.2
             }
            },
            "type": "histogram"
           }
          ],
          "histogram2d": [
           {
            "colorbar": {
             "outlinewidth": 0,
             "ticks": ""
            },
            "colorscale": [
             [
              0,
              "#0d0887"
             ],
             [
              0.1111111111111111,
              "#46039f"
             ],
             [
              0.2222222222222222,
              "#7201a8"
             ],
             [
              0.3333333333333333,
              "#9c179e"
             ],
             [
              0.4444444444444444,
              "#bd3786"
             ],
             [
              0.5555555555555556,
              "#d8576b"
             ],
             [
              0.6666666666666666,
              "#ed7953"
             ],
             [
              0.7777777777777778,
              "#fb9f3a"
             ],
             [
              0.8888888888888888,
              "#fdca26"
             ],
             [
              1,
              "#f0f921"
             ]
            ],
            "type": "histogram2d"
           }
          ],
          "histogram2dcontour": [
           {
            "colorbar": {
             "outlinewidth": 0,
             "ticks": ""
            },
            "colorscale": [
             [
              0,
              "#0d0887"
             ],
             [
              0.1111111111111111,
              "#46039f"
             ],
             [
              0.2222222222222222,
              "#7201a8"
             ],
             [
              0.3333333333333333,
              "#9c179e"
             ],
             [
              0.4444444444444444,
              "#bd3786"
             ],
             [
              0.5555555555555556,
              "#d8576b"
             ],
             [
              0.6666666666666666,
              "#ed7953"
             ],
             [
              0.7777777777777778,
              "#fb9f3a"
             ],
             [
              0.8888888888888888,
              "#fdca26"
             ],
             [
              1,
              "#f0f921"
             ]
            ],
            "type": "histogram2dcontour"
           }
          ],
          "mesh3d": [
           {
            "colorbar": {
             "outlinewidth": 0,
             "ticks": ""
            },
            "type": "mesh3d"
           }
          ],
          "parcoords": [
           {
            "line": {
             "colorbar": {
              "outlinewidth": 0,
              "ticks": ""
             }
            },
            "type": "parcoords"
           }
          ],
          "pie": [
           {
            "automargin": true,
            "type": "pie"
           }
          ],
          "scatter": [
           {
            "fillpattern": {
             "fillmode": "overlay",
             "size": 10,
             "solidity": 0.2
            },
            "type": "scatter"
           }
          ],
          "scatter3d": [
           {
            "line": {
             "colorbar": {
              "outlinewidth": 0,
              "ticks": ""
             }
            },
            "marker": {
             "colorbar": {
              "outlinewidth": 0,
              "ticks": ""
             }
            },
            "type": "scatter3d"
           }
          ],
          "scattercarpet": [
           {
            "marker": {
             "colorbar": {
              "outlinewidth": 0,
              "ticks": ""
             }
            },
            "type": "scattercarpet"
           }
          ],
          "scattergeo": [
           {
            "marker": {
             "colorbar": {
              "outlinewidth": 0,
              "ticks": ""
             }
            },
            "type": "scattergeo"
           }
          ],
          "scattergl": [
           {
            "marker": {
             "colorbar": {
              "outlinewidth": 0,
              "ticks": ""
             }
            },
            "type": "scattergl"
           }
          ],
          "scattermapbox": [
           {
            "marker": {
             "colorbar": {
              "outlinewidth": 0,
              "ticks": ""
             }
            },
            "type": "scattermapbox"
           }
          ],
          "scatterpolar": [
           {
            "marker": {
             "colorbar": {
              "outlinewidth": 0,
              "ticks": ""
             }
            },
            "type": "scatterpolar"
           }
          ],
          "scatterpolargl": [
           {
            "marker": {
             "colorbar": {
              "outlinewidth": 0,
              "ticks": ""
             }
            },
            "type": "scatterpolargl"
           }
          ],
          "scatterternary": [
           {
            "marker": {
             "colorbar": {
              "outlinewidth": 0,
              "ticks": ""
             }
            },
            "type": "scatterternary"
           }
          ],
          "surface": [
           {
            "colorbar": {
             "outlinewidth": 0,
             "ticks": ""
            },
            "colorscale": [
             [
              0,
              "#0d0887"
             ],
             [
              0.1111111111111111,
              "#46039f"
             ],
             [
              0.2222222222222222,
              "#7201a8"
             ],
             [
              0.3333333333333333,
              "#9c179e"
             ],
             [
              0.4444444444444444,
              "#bd3786"
             ],
             [
              0.5555555555555556,
              "#d8576b"
             ],
             [
              0.6666666666666666,
              "#ed7953"
             ],
             [
              0.7777777777777778,
              "#fb9f3a"
             ],
             [
              0.8888888888888888,
              "#fdca26"
             ],
             [
              1,
              "#f0f921"
             ]
            ],
            "type": "surface"
           }
          ],
          "table": [
           {
            "cells": {
             "fill": {
              "color": "#EBF0F8"
             },
             "line": {
              "color": "white"
             }
            },
            "header": {
             "fill": {
              "color": "#C8D4E3"
             },
             "line": {
              "color": "white"
             }
            },
            "type": "table"
           }
          ]
         },
         "layout": {
          "annotationdefaults": {
           "arrowcolor": "#2a3f5f",
           "arrowhead": 0,
           "arrowwidth": 1
          },
          "autotypenumbers": "strict",
          "coloraxis": {
           "colorbar": {
            "outlinewidth": 0,
            "ticks": ""
           }
          },
          "colorscale": {
           "diverging": [
            [
             0,
             "#8e0152"
            ],
            [
             0.1,
             "#c51b7d"
            ],
            [
             0.2,
             "#de77ae"
            ],
            [
             0.3,
             "#f1b6da"
            ],
            [
             0.4,
             "#fde0ef"
            ],
            [
             0.5,
             "#f7f7f7"
            ],
            [
             0.6,
             "#e6f5d0"
            ],
            [
             0.7,
             "#b8e186"
            ],
            [
             0.8,
             "#7fbc41"
            ],
            [
             0.9,
             "#4d9221"
            ],
            [
             1,
             "#276419"
            ]
           ],
           "sequential": [
            [
             0,
             "#0d0887"
            ],
            [
             0.1111111111111111,
             "#46039f"
            ],
            [
             0.2222222222222222,
             "#7201a8"
            ],
            [
             0.3333333333333333,
             "#9c179e"
            ],
            [
             0.4444444444444444,
             "#bd3786"
            ],
            [
             0.5555555555555556,
             "#d8576b"
            ],
            [
             0.6666666666666666,
             "#ed7953"
            ],
            [
             0.7777777777777778,
             "#fb9f3a"
            ],
            [
             0.8888888888888888,
             "#fdca26"
            ],
            [
             1,
             "#f0f921"
            ]
           ],
           "sequentialminus": [
            [
             0,
             "#0d0887"
            ],
            [
             0.1111111111111111,
             "#46039f"
            ],
            [
             0.2222222222222222,
             "#7201a8"
            ],
            [
             0.3333333333333333,
             "#9c179e"
            ],
            [
             0.4444444444444444,
             "#bd3786"
            ],
            [
             0.5555555555555556,
             "#d8576b"
            ],
            [
             0.6666666666666666,
             "#ed7953"
            ],
            [
             0.7777777777777778,
             "#fb9f3a"
            ],
            [
             0.8888888888888888,
             "#fdca26"
            ],
            [
             1,
             "#f0f921"
            ]
           ]
          },
          "colorway": [
           "#636efa",
           "#EF553B",
           "#00cc96",
           "#ab63fa",
           "#FFA15A",
           "#19d3f3",
           "#FF6692",
           "#B6E880",
           "#FF97FF",
           "#FECB52"
          ],
          "font": {
           "color": "#2a3f5f"
          },
          "geo": {
           "bgcolor": "white",
           "lakecolor": "white",
           "landcolor": "#E5ECF6",
           "showlakes": true,
           "showland": true,
           "subunitcolor": "white"
          },
          "hoverlabel": {
           "align": "left"
          },
          "hovermode": "closest",
          "mapbox": {
           "style": "light"
          },
          "paper_bgcolor": "white",
          "plot_bgcolor": "#E5ECF6",
          "polar": {
           "angularaxis": {
            "gridcolor": "white",
            "linecolor": "white",
            "ticks": ""
           },
           "bgcolor": "#E5ECF6",
           "radialaxis": {
            "gridcolor": "white",
            "linecolor": "white",
            "ticks": ""
           }
          },
          "scene": {
           "xaxis": {
            "backgroundcolor": "#E5ECF6",
            "gridcolor": "white",
            "gridwidth": 2,
            "linecolor": "white",
            "showbackground": true,
            "ticks": "",
            "zerolinecolor": "white"
           },
           "yaxis": {
            "backgroundcolor": "#E5ECF6",
            "gridcolor": "white",
            "gridwidth": 2,
            "linecolor": "white",
            "showbackground": true,
            "ticks": "",
            "zerolinecolor": "white"
           },
           "zaxis": {
            "backgroundcolor": "#E5ECF6",
            "gridcolor": "white",
            "gridwidth": 2,
            "linecolor": "white",
            "showbackground": true,
            "ticks": "",
            "zerolinecolor": "white"
           }
          },
          "shapedefaults": {
           "line": {
            "color": "#2a3f5f"
           }
          },
          "ternary": {
           "aaxis": {
            "gridcolor": "white",
            "linecolor": "white",
            "ticks": ""
           },
           "baxis": {
            "gridcolor": "white",
            "linecolor": "white",
            "ticks": ""
           },
           "bgcolor": "#E5ECF6",
           "caxis": {
            "gridcolor": "white",
            "linecolor": "white",
            "ticks": ""
           }
          },
          "title": {
           "x": 0.05
          },
          "xaxis": {
           "automargin": true,
           "gridcolor": "white",
           "linecolor": "white",
           "ticks": "",
           "title": {
            "standoff": 15
           },
           "zerolinecolor": "white",
           "zerolinewidth": 2
          },
          "yaxis": {
           "automargin": true,
           "gridcolor": "white",
           "linecolor": "white",
           "ticks": "",
           "title": {
            "standoff": 15
           },
           "zerolinecolor": "white",
           "zerolinewidth": 2
          }
         }
        },
        "title": {
         "text": "Optimization Graph"
        },
        "width": 600,
        "xaxis": {
         "dtick": 2,
         "gridcolor": "#cccccc",
         "title": {
          "text": "x1"
         },
         "zerolinecolor": "black"
        },
        "yaxis": {
         "dtick": 3,
         "gridcolor": "#cccccc",
         "title": {
          "text": "x2"
         },
         "zerolinecolor": "black"
        }
       }
      }
     },
     "metadata": {},
     "output_type": "display_data"
    }
   ],
   "source": [
    "fig = go.Figure()\n",
    "\n",
    "x1 = np.linspace(0, 16, 10)\n",
    "# x1 + x2 - 15 ≤ 0\n",
    "x2_1 = 15 - x1\n",
    "fig.add_scatter(\n",
    "    x=x1, y=x2_1,\n",
    "    mode='lines',\n",
    "    line={'color':'#8e2c50',\n",
    "            'width':1.5},\n",
    "    name='x1 + x2 - 15 ≤ 0'\n",
    ")\n",
    "\n",
    "# 2x1 - x2 - 6 ≤ 0\n",
    "x2_2 = 2*x1-6\n",
    "fig.add_scatter(\n",
    "    x=x1, y=x2_2,\n",
    "    mode='lines',\n",
    "    line={'color':'#5e43a5',\n",
    "            'width':1.5},\n",
    "    name='2x1 + x2 - 6 ≤ 0'\n",
    ")\n",
    "\n",
    "# -x1 + x2 - 10 ≤ 0\n",
    "x2_3 = x1+10\n",
    "fig.add_scatter(\n",
    "    x=x1, y=x2_3,\n",
    "    mode='lines',\n",
    "    line={'color':'#da8200',\n",
    "            'width':1.5},\n",
    "    name='2x1 + x2 - 6 ≤ 0'\n",
    ")\n",
    "\n",
    "fig.add_scatter(\n",
    "    x=[3, 7, 15], y=[0, 8, 0],\n",
    "    fill='tozeroy',  # Fill the area under the curve\n",
    "    mode='none',\n",
    "    fillcolor='rgba(150, 150, 150, 0.18)',  # Set the fill color\n",
    "    name='Feasible Region'\n",
    ")\n",
    "\n",
    "# Optimum\n",
    "fig.add_trace(go.Scatter(\n",
    "    x=[7], \n",
    "    y=[8], \n",
    "    mode='markers', \n",
    "    marker=dict(size=8, color='black', symbol='star'),\n",
    "    name='Optimum'\n",
    "))\n",
    "\n",
    "fig.layout = go.Layout(\n",
    "    xaxis = {'zerolinecolor':'black',\n",
    "             'gridcolor':'#cccccc',\n",
    "             'title':'x1',\n",
    "             'dtick':2},\n",
    "    yaxis = {'zerolinecolor':'black',\n",
    "             'gridcolor':'#cccccc',\n",
    "             'title':'x2',\n",
    "             'dtick':3},\n",
    "    plot_bgcolor = 'white',\n",
    "    width=600, height=500,\n",
    "    title={'text':'Optimization Graph'}\n",
    ")\n",
    "\n",
    "fig.show();"
   ]
  },
  {
   "cell_type": "markdown",
   "metadata": {},
   "source": [
    "## Pyomo"
   ]
  },
  {
   "cell_type": "code",
   "execution_count": 171,
   "metadata": {},
   "outputs": [],
   "source": [
    "from pyomo.environ import *\n",
    "# brew install glpk >> for MacOS"
   ]
  },
  {
   "cell_type": "code",
   "execution_count": 173,
   "metadata": {},
   "outputs": [
    {
     "name": "stdout",
     "output_type": "stream",
     "text": [
      "The solution is optimal.\n",
      "========================\n",
      "Objective value: \n",
      "  f(x) = -41.0\n",
      "Solution: \n",
      "  x1 = 7.0 \n",
      "  x2 = 8.0\n",
      "\n"
     ]
    }
   ],
   "source": [
    "# Model Declaration\n",
    "model = ConcreteModel()\n",
    "\n",
    "# Decision Variables\n",
    "model.x1 = Var()\n",
    "model.x2 = Var()\n",
    "\n",
    "# Objective Function\n",
    "model.obj = Objective(\n",
    "    expr=-7*model.x1+model.x2,\n",
    "    sense=minimize\n",
    ")\n",
    "\n",
    "# Constraints\n",
    "model.c1 = Constraint(expr=model.x1 + model.x2 <= 15)\n",
    "model.c2 = Constraint(expr=2*model.x1 - model.x2 <= 6)\n",
    "model.c3 = Constraint(expr=-model.x1 + model.x2 <= 10)\n",
    "\n",
    "# Solver\n",
    "results = SolverFactory('glpk').solve(model)\n",
    "\n",
    "# Printing\n",
    "if results.solver.termination_condition == TerminationCondition.optimal: \n",
    "    print('The solution is optimal.')\n",
    "    print('========================')\n",
    "print(f'''Objective value: \n",
    "  f(x) = {value(model.obj)}''')\n",
    "print(f'''Solution: \n",
    "  x1 = {value(model.x1)} \n",
    "  x2 = {value(model.x2)}\n",
    "''')"
   ]
  }
 ],
 "metadata": {
  "kernelspec": {
   "display_name": "Python 3",
   "language": "python",
   "name": "python3"
  },
  "language_info": {
   "codemirror_mode": {
    "name": "ipython",
    "version": 3
   },
   "file_extension": ".py",
   "mimetype": "text/x-python",
   "name": "python",
   "nbconvert_exporter": "python",
   "pygments_lexer": "ipython3",
   "version": "3.12.0"
  }
 },
 "nbformat": 4,
 "nbformat_minor": 2
}
