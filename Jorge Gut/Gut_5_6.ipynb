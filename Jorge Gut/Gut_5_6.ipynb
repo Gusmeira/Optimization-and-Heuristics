{
 "cells": [
  {
   "cell_type": "markdown",
   "metadata": {},
   "source": [
    "# Jorge Gut (5.6)"
   ]
  },
  {
   "cell_type": "markdown",
   "metadata": {},
   "source": [
    "The flowchart below represents the processing of sugarcane for the production of molasses, brown sugar, crystal sugar, refined sugar, and confectioner's sugar.\n",
    "\n",
    "The net profits per ton of each of these products are $30, $150, $170, $230, and $200, respectively. The minimum quantities to be produced weekly are 10, 25, 25, 90, and 40 tons, and the supply of sugarcane is limited to 10,000 tons per week. The processing steps are: (1) milling the sugarcane with a 50% yield, with the remainder being bagasse; (2) evaporating the juice with a 90% yield for syrup production; (3) cooking and crystallizing with a 30% yield for brown sugar and a 10% yield for molasses; (4) light refining of brown sugar with an 80% yield for the production of crystal sugar; (5) refining crystal sugar with a 70% yield for refined sugar and 25% for confectioner's sugar. The generated bagasse can be sold for a profit of $5 per ton.\n",
    "\n",
    "a) Model the sugarcane processing based on the flowchart and yields.\n",
    "\n",
    "b) Formulate an LP problem to maximize weekly profit.\n",
    "\n",
    "c) Solve the problem using an optimization program."
   ]
  },
  {
   "cell_type": "markdown",
   "metadata": {},
   "source": [
    "## Problem Solving"
   ]
  },
  {
   "cell_type": "markdown",
   "metadata": {},
   "source": [
    "Since it is a maximizing problem (our wish is to return the maximum sales possible), we can write the objective function as:\n",
    "\n",
    "$$max. \\,\\, f(x)=\\sum_{i \\text{ = } product_1}^{product_n}c_ix_i$$\n",
    "\n",
    "- $c$ is the cost\n",
    "- $x$ is the products"
   ]
  },
  {
   "cell_type": "markdown",
   "metadata": {},
   "source": [
    "Now, our eyes have to focus in declaring the constraints. Since we are maximizing the costs in terms of time, $x$ represents the products that we want to evaluate.\n",
    "\n",
    "- Maximal amount: $x_{sugarcane} ≤ 10.000 \\text{ ton/week}$\n",
    "---\n",
    "- Molasses: $x_{molasses} ≥ 10 \\text{ ton/week}$\n",
    "- Brown: $x_{brown} ≥ 25 \\text{ ton/week}$\n",
    "- Crystal: $x_{crystal} ≥ 25 \\text{ ton/week}$\n",
    "- Refined: $x_{refined} ≥ 90 \\text{ ton/week}$\n",
    "- Confectioner: $x_{confectioner} ≥ 40 \\text{ ton/week}$\n",
    "---\n",
    "- 1: $0.5x_{bagasse} + 0.5x_{syrup} ≤ x_{sugarcane}$\n",
    "- 2|3: $0.1x_{molasse} + 0.3x_{brown} ≤ 0.2x_{syrup}$\n",
    "- 4: $0.8x_{crystal} ≤ 0.6 \\cdot 0.2x_{syrup}$\n",
    "- 5: $0.7x_{refined} + 0.25x_{confectioner} ≤ 0.2x_{crystal}$\n",
    "\n",
    "Also, the variables are positive and real."
   ]
  },
  {
   "cell_type": "markdown",
   "metadata": {},
   "source": [
    "Finally, the problem definition is:\n",
    "> $max.$ $f(x)=\\sum_{i}^{n}c_ix_i$ <br>\n",
    "$s.a:$ $\\begin{cases}\n",
    "        x_{sugarcane} ≤ 10000 \\\\\n",
    "        x_{molasses} ≥ 10 \\\\\n",
    "        x_{brown} ≥ 25 \\\\\n",
    "        x_{crystal} ≥ 25 \\\\\n",
    "        x_{refined} ≥ 90 \\\\\n",
    "        x_{confectioner} ≥ 40 \\\\\n",
    "        0.5x_{bagasse} + 0.5x_{syrup} ≤ x_{sugarcane} \\\\\n",
    "        0.1x_{molasse} + 0.3x_{brown} ≤ 0.2x_{syrup} \\\\\n",
    "        0.8x_{crystal} ≤ 0.6 \\cdot 0.2x_{syrup} \\\\\n",
    "        0.7x_{refined} + 0.25x_{confectioner} ≤ 0.2x_{crystal} \\\\\n",
    "        x ≥ 0, \\in \\mathbb{R}^1\n",
    "        \\end{cases}$ <br>"
   ]
  },
  {
   "cell_type": "markdown",
   "metadata": {},
   "source": [
    "## Pyomo"
   ]
  },
  {
   "cell_type": "code",
   "execution_count": 2,
   "metadata": {},
   "outputs": [],
   "source": [
    "import platform\n",
    "from pyomo.environ import *\n",
    "# brew install glpk >> for MacOS\n"
   ]
  },
  {
   "cell_type": "code",
   "execution_count": 3,
   "metadata": {},
   "outputs": [
    {
     "name": "stdout",
     "output_type": "stream",
     "text": [
      "No optimal solution found.\n",
      "Solver status: other\n"
     ]
    }
   ],
   "source": [
    "from pyomo.environ import *\n",
    "\n",
    "# Model Declaration\n",
    "model = ConcreteModel()\n",
    "\n",
    "# Decision Variables\n",
    "model.sugarcane = Var(domain=NonNegativeReals, initialize=10000)\n",
    "model.syrup = Var(domain=NonNegativeReals, initialize=5000)\n",
    "model.molasse = Var(domain=NonNegativeReals, initialize=100)\n",
    "model.brown = Var(domain=NonNegativeReals)\n",
    "model.crystal = Var(domain=NonNegativeReals)\n",
    "model.refined = Var(domain=NonNegativeReals)\n",
    "model.confection = Var(domain=NonNegativeReals)\n",
    "model.bagasse = Var(domain=NonNegativeReals, initialize=5000)\n",
    "\n",
    "# Objective Function Coefficients\n",
    "model.costs = {\n",
    "    'molasse': 30, 'brown': 150, 'crystal': 170,\n",
    "    'refined': 230, 'confection': 200, 'bagasse': 5\n",
    "}\n",
    "\n",
    "# Objective Function\n",
    "model.obj = Objective(\n",
    "    expr=\n",
    "    model.molasse*model.costs['molasse'] + model.brown*model.costs['brown'] + \n",
    "    model.crystal*model.costs['crystal'] + model.refined*model.costs['refined'] + \n",
    "    model.confection*model.costs['confection'] + model.bagasse*model.costs['bagasse'],\n",
    "    sense=maximize\n",
    ")\n",
    "\n",
    "# Constraints\n",
    "model.c1 = Constraint(expr=model.sugarcane <= 10000)  \n",
    "model.c2 = Constraint(expr=model.molasse >= 10)  \n",
    "model.c3 = Constraint(expr=model.brown >= 25) \n",
    "model.c4 = Constraint(expr=model.crystal >= 25) \n",
    "model.c6 = Constraint(expr=model.refined >= 90) \n",
    "model.c7 = Constraint(expr=model.confection >= 40) \n",
    "model.c8a = Constraint(expr=model.bagasse <= 0.5*model.sugarcane)\n",
    "model.c8b = Constraint(expr=model.syrup <= 0.5*model.sugarcane)\n",
    "model.c9a = Constraint(expr=model.brown <= 0.3*0.2*model.syrup)\n",
    "model.c9b = Constraint(expr=model.molasse <= 0.1*0.2*model.syrup)\n",
    "model.c10 = Constraint(expr=model.crystal <= 0.8*0.6*0.2*model.syrup)\n",
    "model.c11a = Constraint(expr=model.refined <= 0.7*0.2*model.crystal)\n",
    "model.c11b = Constraint(expr=model.confection <= 0.25*0.2*model.crystal)\n",
    "\n",
    "# Solver\n",
    "if platform.system() == \"Darwin\":  # For MacOS\n",
    "    results = SolverFactory('glpk').solve(model)\n",
    "elif platform.system() == \"Windows\":  # For Windows\n",
    "    results = SolverFactory('glpk', executable=r'C:\\glpk-4.55\\w64\\glpsol').solve(model)\n",
    "\n",
    "# Display Results\n",
    "if results.solver.termination_condition == TerminationCondition.optimal: \n",
    "    print('The solution is optimal.')\n",
    "    print('========================')\n",
    "    \n",
    "    # Display Objective and Solution\n",
    "    print(f'''Objective value: \n",
    "      f(x) = R$ {value(model.obj)}''')\n",
    "    print(f'''Solution: \n",
    "      Molasse = {value(model.molasse)} \n",
    "      Brown = {value(model.brown)}\n",
    "      Crystal = {value(model.crystal)}\n",
    "      Refined = {value(model.refined)}\n",
    "      Confection = {value(model.confection)}\n",
    "      Bagasse = {value(model.bagasse)}\n",
    "    ''')\n",
    "else:\n",
    "    print('No optimal solution found.')\n",
    "    print(f\"Solver status: {results.solver.termination_condition}\")"
   ]
  }
 ],
 "metadata": {
  "kernelspec": {
   "display_name": "Python 3",
   "language": "python",
   "name": "python3"
  },
  "language_info": {
   "codemirror_mode": {
    "name": "ipython",
    "version": 3
   },
   "file_extension": ".py",
   "mimetype": "text/x-python",
   "name": "python",
   "nbconvert_exporter": "python",
   "pygments_lexer": "ipython3",
   "version": "3.12.6"
  }
 },
 "nbformat": 4,
 "nbformat_minor": 2
}
