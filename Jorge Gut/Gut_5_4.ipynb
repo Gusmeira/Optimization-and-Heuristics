{
 "cells": [
  {
   "cell_type": "markdown",
   "metadata": {},
   "source": [
    "# Jorge Gut (5.4)"
   ]
  },
  {
   "cell_type": "markdown",
   "metadata": {},
   "source": [
    "A company produces two types of candies: **Maxx** and **Light**. The sales prices are R$50.00 and R$60.00 per box, respectively. The production involves three main operations: mixing, extrusion, and packaging. The table below provides the time (in minutes) required for each box in these operations.\n",
    "\n",
    "| Candy | Mixing Time | Extrusion Time | Packaging Time |\n",
    "|-------|--------------------|----------------------|----------------------|\n",
    "| Maxx  | 1                  | 5                    | 3                    |\n",
    "| Light | 2                  | 4                    | 1                    |\n",
    "\n",
    "On a production day, the factory's equipment has 15 hours available for mixing, 40 hours for extrusion, and 15 hours for packaging.\n",
    "\n",
    "**a)** Formulate an **LP (Linear Programming)** problem in standard form to maximize the return from the sale of candy boxes, considering the production limits of the plant. Use continuous variables.\n",
    "\n",
    "**b)** Solve the optimization problem using an optimization program."
   ]
  },
  {
   "cell_type": "markdown",
   "metadata": {},
   "source": [
    "## Problem Solving"
   ]
  },
  {
   "cell_type": "markdown",
   "metadata": {},
   "source": [
    "Since it is a maximizing problem (our wish is to return the maximum sales possible), we can write the objective function as:\n",
    "\n",
    "$f(x)=(50 \\cdot Maxx) + (60 \\cdot Light)=>c_1 \\cdot x_1 + c_2 \\cdot x_2$\n",
    "\n",
    "Given that:\n",
    "- M, $x_1$ = Maxx\n",
    "- L, $x_2$ = Light\n",
    "\n",
    "We can, finally, express it like:\n",
    "$$max. \\,\\, f(x)=\\sum_{i=1}^{2}c_ix_i$$"
   ]
  },
  {
   "cell_type": "markdown",
   "metadata": {},
   "source": [
    "Now, our eyes have to focus in declaring the constraints. Since we are maximizing the costs in terms of time, $x$ represents the time that we want to evaluate.\n",
    "- Mixing: $x_1 + 2x_2 ≤ 15 \\cdot 60$\n",
    "- Extrusion: $5x_1 + 4x_2 ≤ 40 \\cdot 60$\n",
    "- Packaging: $3x_1 + x_2 ≤ 15 \\cdot 60$\n",
    "Also, both variables are positive and real since we don't have negative time."
   ]
  },
  {
   "cell_type": "markdown",
   "metadata": {},
   "source": [
    "Finally, the problem definition is:\n",
    "> $max.$ $f(x)=\\sum_{i=1}^{2}c_ix_i$ <br>\n",
    "$s.a:$ $\\begin{cases}\n",
    "        x_1 + 2x_2 - 900 ≤ 0 \\\\\n",
    "        5x_1 + 4x_2 - 2400 ≤ 0 \\\\\n",
    "        3x_1 + x_2 - 900 ≤ 0 \\\\\n",
    "        x_1,x_2 ≥ 0, \\in \\mathbb{R}^1\n",
    "        \\end{cases}$ <br>"
   ]
  },
  {
   "cell_type": "markdown",
   "metadata": {},
   "source": [
    "## Pyomo"
   ]
  },
  {
   "cell_type": "code",
   "execution_count": 1,
   "metadata": {},
   "outputs": [],
   "source": [
    "import platform\n",
    "from pyomo.environ import *\n",
    "# brew install glpk >> for MacOS"
   ]
  },
  {
   "cell_type": "code",
   "execution_count": 2,
   "metadata": {},
   "outputs": [
    {
     "name": "stdout",
     "output_type": "stream",
     "text": [
      "The solution is optimal.\n",
      "========================\n",
      "Objective value: \n",
      "  f(x) = R$ 30600.0\n",
      "Solution: \n",
      "   Maxx = 180.0 min \n",
      "  Light = 360.0 min\n",
      "\n"
     ]
    }
   ],
   "source": [
    "from pyomo.environ import *\n",
    "\n",
    "# Model Declaration\n",
    "model = ConcreteModel()\n",
    "\n",
    "# Decision Variables\n",
    "model.x = Var([1, 2], domain=NonNegativeReals)  # x[1] = Maxx, x[2] = Light\n",
    "\n",
    "# Objective Function Coefficients\n",
    "model.c = Param([1, 2], initialize={1: 50, 2: 60})  # Prices for Maxx and Light\n",
    "\n",
    "# Objective Function\n",
    "def obj_func(model):\n",
    "    return sum(model.c[i] * model.x[i] for i in model.x)\n",
    "\n",
    "model.obj = Objective(rule=obj_func, sense=maximize)\n",
    "\n",
    "# Constraints\n",
    "model.c1 = Constraint(expr=model.x[1] + 2 * model.x[2] <= 900)  # Mixing time constraint\n",
    "model.c2 = Constraint(expr=5 * model.x[1] + 4 * model.x[2] <= 2400)  # Extrusion time constraint\n",
    "model.c3 = Constraint(expr=3 * model.x[1] + model.x[2] <= 900)  # Packaging time constraint\n",
    "\n",
    "# Solver\n",
    "if platform.system() == \"Darwin\":  # For MacOS\n",
    "    results = SolverFactory('glpk').solve(model)\n",
    "elif platform.system() == \"Windows\":  # For Windows\n",
    "    results = SolverFactory('glpk', executable=r'C:\\glpk-4.55\\w64\\glpsol').solve(model)\n",
    "\n",
    "# Display Results\n",
    "if results.solver.termination_condition == TerminationCondition.optimal: \n",
    "    print('The solution is optimal.')\n",
    "    print('========================')\n",
    "print(f'''Objective value: \n",
    "  f(x) = R$ {value(model.obj)}''')\n",
    "print(f'''Solution: \n",
    "   Maxx = {value(model.x[1])} min \n",
    "  Light = {value(model.x[2])} min\n",
    "''')"
   ]
  }
 ],
 "metadata": {
  "kernelspec": {
   "display_name": "Python 3",
   "language": "python",
   "name": "python3"
  },
  "language_info": {
   "codemirror_mode": {
    "name": "ipython",
    "version": 3
   },
   "file_extension": ".py",
   "mimetype": "text/x-python",
   "name": "python",
   "nbconvert_exporter": "python",
   "pygments_lexer": "ipython3",
   "version": "3.12.6"
  }
 },
 "nbformat": 4,
 "nbformat_minor": 2
}
