{
 "cells": [
  {
   "cell_type": "markdown",
   "metadata": {},
   "source": [
    "# Jorge Gut (5.5)"
   ]
  },
  {
   "cell_type": "markdown",
   "metadata": {},
   "source": [
    "A company consists of two factories, A and B. Each factory produces two products, **standard** and **luxury**. A unit of **standard** generates a profit (revenue - costs) of $10, while a unit of **luxury** generates a profit of $15. Both factories use two processes (assembly and finishing) for both products. Factory A has an assembly capacity of 80 hours/week and a finishing capacity of 60 hours/week. For factory B, the numbers are 60 hours/week and 75 hours/week, respectively. The assembly and finishing times in hours for a unit of each product are shown in the table below. One unit of each product uses 4 kg of raw material **mp**. The company has 120 kg of **mp** available per week.\n",
    "\n",
    "| Process    | Factory A |            | Factory B |          |\n",
    "|------------|-----------|------------|-----------|----------|\n",
    "|            | Standard  | Luxury     | Standard  | Luxury   |\n",
    "| Assembly   | 4         | 2          | 5         | 3        |\n",
    "| Finishing  | 2         | 5          | 5         | 6        |\n",
    "\n",
    "a) Initially assuming that 75 kg of **mp** are allocated per week to factory A and 45 kg to factory B, formulate and solve the profit maximization problem. Consider continuous variables.\n",
    "\n",
    "b) Now suppose that the allocation of **mp** is no longer predefined. Reformulate and solve the company's optimization problem. What improvement was obtained?"
   ]
  },
  {
   "cell_type": "markdown",
   "metadata": {},
   "source": [
    "## Problem Solving"
   ]
  },
  {
   "cell_type": "markdown",
   "metadata": {},
   "source": [
    "Our objective is to maximize the money earned by all factories. Since we know the prices:\n",
    "$$f(x)=\\$10(Standard_A+Standard_B)+\\$15(Luxury_A+Luxury_B)$$ \n",
    "$$\\therefore f(x)=10(S_A+S_B)+15(L_A+L_B)$$ "
   ]
  },
  {
   "cell_type": "markdown",
   "metadata": {},
   "source": [
    "Now, our eyes have to focus in declaring the constraints.\n",
    "\n",
    "The table allows us to understand the maximum time that each factory has to produce its items:      \n",
    "- Factory A:\n",
    "    - Assembly: $4S_A + 2L_A \\leq 80$\n",
    "    - Finishing: $2S_A + 5L_A \\leq 60$\n",
    "- Factory B:\n",
    "    - Assembly: $5S_B + 3L_B \\leq 60$\n",
    "    - Finishing: $5S_A + 6L_A \\leq 75$\n",
    "    \n",
    "Also, both variables are positive and real since we don't have negative time.\n",
    "\n",
    "Not only this, but the weight of the raw materials constraint is:\n",
    "- $4(S_A+L_A)+4(S_B+L_B) \\leq 120$\n",
    "\n",
    "- When well stablished, we know that:\n",
    "    - Factory A: $4(S_A+L_A) \\leq 75$\n",
    "    - Factory B: $4(S_B+L_B) \\leq 45$"
   ]
  },
  {
   "cell_type": "markdown",
   "metadata": {},
   "source": [
    "Finally, the problem definition is:\n",
    "> $max.$ $f(x)=10(S_A+S_B)+15(L_A+L_B)$ <br>\n",
    "$s.a:$ $\\begin{cases}\n",
    "        4S_A + 2L_A - 80 \\leq 0 \\\\\n",
    "        2S_A + 5L_A - 60 \\leq 0 \\\\\n",
    "        5S_B + 3L_B - 60 \\leq 0 \\\\\n",
    "        5S_A + 6L_A - 75 \\leq 0 \\\\\n",
    "        4(S_A+L_A)+4(S_B+L_B) - 120 \\leq 0 \\\\\n",
    "        S_A,L_A,S_B,L_B ≥ 0, \\in \\mathbb{R}^1\n",
    "        \\end{cases}$ <br>"
   ]
  },
  {
   "cell_type": "markdown",
   "metadata": {},
   "source": [
    "## Pyomo"
   ]
  },
  {
   "cell_type": "code",
   "execution_count": 1,
   "metadata": {},
   "outputs": [],
   "source": [
    "from pyomo.environ import *\n",
    "# brew install glpk >> for MacOS"
   ]
  },
  {
   "cell_type": "code",
   "execution_count": 15,
   "metadata": {},
   "outputs": [
    {
     "name": "stdout",
     "output_type": "stream",
     "text": [
      "The solution is optimal.\n",
      "========================\n",
      "Objective value: \n",
      "  f(x) = R$ 393.75\n",
      "Solution: \n",
      "  SA = 11.25 \n",
      "  LA = 7.5\n",
      "  SB = 0.0\n",
      "  LB = 11.25\n",
      "\n"
     ]
    }
   ],
   "source": [
    "# Case a\n",
    "# Model Declaration\n",
    "model = ConcreteModel()\n",
    "\n",
    "# Decision Variables\n",
    "model.SA = Var(domain=NonNegativeReals)\n",
    "model.LA = Var(domain=NonNegativeReals)\n",
    "model.SB = Var(domain=NonNegativeReals)\n",
    "model.LB = Var(domain=NonNegativeReals)\n",
    "\n",
    "# Objective Function\n",
    "model.obj = Objective(expr=10*(model.SA+model.SB)+15*(model.LA+model.LB), sense=maximize)\n",
    "\n",
    "# Constraints\n",
    "model.c1 = Constraint(expr=4*model.SA + 2*model.LA <= 80)\n",
    "model.c2 = Constraint(expr=2*model.SA + 5*model.LA <= 60)\n",
    "model.c3 = Constraint(expr=5*model.SB + 3*model.LB <= 60)\n",
    "model.c4 = Constraint(expr=5*model.SB + 6*model.LB <= 75)\n",
    "model.case_a1 = Constraint(expr=4*(model.SA+model.LA) <= 75)\n",
    "model.case_a2 = Constraint(expr=4*(model.SB+model.LB) <= 45)\n",
    "\n",
    "# Solver\n",
    "results = SolverFactory('glpk').solve(model)\n",
    "\n",
    "# Display Results\n",
    "if results.solver.termination_condition == TerminationCondition.optimal: \n",
    "    print('The solution is optimal.')\n",
    "    print('========================')\n",
    "print(f'''Objective value: \n",
    "  f(x) = R$ {round(value(model.obj),2)}''')\n",
    "print(f'''Solution: \n",
    "  SA = {round(value(model.SA),2)} \n",
    "  LA = {round(value(model.LA),2)}\n",
    "  SB = {round(value(model.SB),2)}\n",
    "  LB = {round(value(model.LB),2)}\n",
    "''')"
   ]
  },
  {
   "cell_type": "code",
   "execution_count": 16,
   "metadata": {},
   "outputs": [
    {
     "name": "stdout",
     "output_type": "stream",
     "text": [
      "The solution is optimal.\n",
      "========================\n",
      "Objective value: \n",
      "  f(x) = R$ 404.17\n",
      "Solution: \n",
      "  SA = 9.17 \n",
      "  LA = 8.33\n",
      "  SB = 0.0\n",
      "  LB = 12.5\n",
      "\n"
     ]
    }
   ],
   "source": [
    "# Case b\n",
    "# Model Declaration\n",
    "model = ConcreteModel()\n",
    "\n",
    "# Decision Variables\n",
    "model.SA = Var(domain=NonNegativeReals)\n",
    "model.LA = Var(domain=NonNegativeReals)\n",
    "model.SB = Var(domain=NonNegativeReals)\n",
    "model.LB = Var(domain=NonNegativeReals)\n",
    "\n",
    "# Objective Function\n",
    "model.obj = Objective(expr=10*(model.SA+model.SB)+15*(model.LA+model.LB), sense=maximize)\n",
    "\n",
    "# Constraints\n",
    "model.c1 = Constraint(expr=4*model.SA + 2*model.LA <= 80)\n",
    "model.c2 = Constraint(expr=2*model.SA + 5*model.LA <= 60)\n",
    "model.c3 = Constraint(expr=5*model.SB + 3*model.LB <= 60)\n",
    "model.c4 = Constraint(expr=5*model.SB + 6*model.LB <= 75)\n",
    "model.case_b = Constraint(expr=4*(model.SA+model.LA) + 4*(model.SB+model.LB) <= 120)\n",
    "\n",
    "# Solver\n",
    "results = SolverFactory('glpk').solve(model)\n",
    "\n",
    "# Display Results\n",
    "if results.solver.termination_condition == TerminationCondition.optimal: \n",
    "    print('The solution is optimal.')\n",
    "    print('========================')\n",
    "print(f'''Objective value: \n",
    "  f(x) = R$ {round(value(model.obj),2)}''')\n",
    "print(f'''Solution: \n",
    "  SA = {round(value(model.SA),2)} \n",
    "  LA = {round(value(model.LA),2)}\n",
    "  SB = {round(value(model.SB),2)}\n",
    "  LB = {round(value(model.LB),2)}\n",
    "''')"
   ]
  }
 ],
 "metadata": {
  "kernelspec": {
   "display_name": "Python 3",
   "language": "python",
   "name": "python3"
  },
  "language_info": {
   "codemirror_mode": {
    "name": "ipython",
    "version": 3
   },
   "file_extension": ".py",
   "mimetype": "text/x-python",
   "name": "python",
   "nbconvert_exporter": "python",
   "pygments_lexer": "ipython3",
   "version": "3.12.0"
  }
 },
 "nbformat": 4,
 "nbformat_minor": 2
}
